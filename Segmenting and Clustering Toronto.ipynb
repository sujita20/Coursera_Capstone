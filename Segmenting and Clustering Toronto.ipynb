{
    "cells": [
        {
            "cell_type": "markdown",
            "metadata": {
                "collapsed": true
            },
            "source": "Obtain the list of postal codes of Canada and transform to a pandas dataframe"
        },
        {
            "cell_type": "markdown",
            "metadata": {},
            "source": "Installing packages:"
        },
        {
            "cell_type": "code",
            "execution_count": 2,
            "metadata": {},
            "outputs": [
                {
                    "name": "stdout",
                    "output_type": "stream",
                    "text": "Installing BeautifulSoup4...\n\nSolving environment: done\n\n## Package Plan ##\n\n  environment location: /opt/conda/envs/Python36\n\n  added / updated specs: \n    - beautifulsoup4\n\n\nThe following packages will be downloaded:\n\n    package                    |            build\n    ---------------------------|-----------------\n    beautifulsoup4-4.8.1       |           py36_0         149 KB  conda-forge\n    openssl-1.1.1d             |       h516909a_0         2.1 MB  conda-forge\n    certifi-2019.11.28         |           py36_0         149 KB  conda-forge\n    ca-certificates-2019.11.28 |       hecc5488_0         145 KB  conda-forge\n    ------------------------------------------------------------\n                                           Total:         2.5 MB\n\nThe following packages will be UPDATED:\n\n    beautifulsoup4:  4.7.1-py36_1      --> 4.8.1-py36_0          conda-forge\n    ca-certificates: 2019.11.27-0      --> 2019.11.28-hecc5488_0 conda-forge\n    certifi:         2019.11.28-py36_0 --> 2019.11.28-py36_0     conda-forge\n\nThe following packages will be DOWNGRADED:\n\n    openssl:         1.1.1d-h7b6447c_3 --> 1.1.1d-h516909a_0     conda-forge\n\n\nDownloading and Extracting Packages\nbeautifulsoup4-4.8.1 | 149 KB    | ##################################### | 100% \nopenssl-1.1.1d       | 2.1 MB    | ##################################### | 100% \ncertifi-2019.11.28   | 149 KB    | ##################################### | 100% \nca-certificates-2019 | 145 KB    | ##################################### | 100% \nPreparing transaction: done\nVerifying transaction: done\nExecuting transaction: done\nBeautifulSoup4 has been successfully installed!\n\nInstalling lxml...\n\nSolving environment: done\n\n## Package Plan ##\n\n  environment location: /opt/conda/envs/Python36\n\n  added / updated specs: \n    - lxml\n\n\nThe following packages will be downloaded:\n\n    package                    |            build\n    ---------------------------|-----------------\n    lxml-4.4.1                 |   py36h7ec2d77_0         1.6 MB  conda-forge\n\nThe following packages will be UPDATED:\n\n    lxml: 4.3.1-py36hefd8a0e_0 --> 4.4.1-py36h7ec2d77_0 conda-forge\n\n\nDownloading and Extracting Packages\nlxml-4.4.1           | 1.6 MB    | ##################################### | 100% \nPreparing transaction: done\nVerifying transaction: done\nExecuting transaction: done\nlxml has been successfully installed!\n\nInstalling ProgressBar...\n\nSolving environment: done\n\n## Package Plan ##\n\n  environment location: /opt/conda/envs/Python36\n\n  added / updated specs: \n    - progressbar2\n\n\nThe following packages will be downloaded:\n\n    package                    |            build\n    ---------------------------|-----------------\n    progressbar2-3.47.0        |             py_0          23 KB  conda-forge\n    python-utils-2.3.0         |             py_1          11 KB  conda-forge\n    pytest-runner-5.2          |             py_0           9 KB  conda-forge\n    ------------------------------------------------------------\n                                           Total:          44 KB\n\nThe following NEW packages will be INSTALLED:\n\n    progressbar2:  3.47.0-py_0 conda-forge\n    pytest-runner: 5.2-py_0    conda-forge\n    python-utils:  2.3.0-py_1  conda-forge\n\n\nDownloading and Extracting Packages\nprogressbar2-3.47.0  | 23 KB     | ##################################### | 100% \npython-utils-2.3.0   | 11 KB     | ##################################### | 100% \npytest-runner-5.2    | 9 KB      | ##################################### | 100% \nPreparing transaction: done\nVerifying transaction: done\nExecuting transaction: done\nProgressBar has been successfully installed!\n\nInstalling GeoPy...\n\nSolving environment: done\n\n## Package Plan ##\n\n  environment location: /opt/conda/envs/Python36\n\n  added / updated specs: \n    - geopy\n\n\nThe following packages will be downloaded:\n\n    package                    |            build\n    ---------------------------|-----------------\n    geographiclib-1.50         |             py_0          34 KB  conda-forge\n    geopy-1.20.0               |             py_0          57 KB  conda-forge\n    ------------------------------------------------------------\n                                           Total:          91 KB\n\nThe following NEW packages will be INSTALLED:\n\n    geographiclib: 1.50-py_0   conda-forge\n    geopy:         1.20.0-py_0 conda-forge\n\n\nDownloading and Extracting Packages\ngeographiclib-1.50   | 34 KB     | ##################################### | 100% \ngeopy-1.20.0         | 57 KB     | ##################################### | 100% \nPreparing transaction: done\nVerifying transaction: done\nExecuting transaction: done\nGeoPy has been successfully installed!\n\nInstalling Folium...\n\nSolving environment: done\n\n## Package Plan ##\n\n  environment location: /opt/conda/envs/Python36\n\n  added / updated specs: \n    - folium=0.5.0\n\n\nThe following packages will be downloaded:\n\n    package                    |            build\n    ---------------------------|-----------------\n    branca-0.3.1               |             py_0          25 KB  conda-forge\n    altair-4.0.0               |             py_0         606 KB  conda-forge\n    folium-0.5.0               |             py_0          45 KB  conda-forge\n    vincent-0.4.4              |             py_1          28 KB  conda-forge\n    ------------------------------------------------------------\n                                           Total:         704 KB\n\nThe following NEW packages will be INSTALLED:\n\n    altair:  4.0.0-py_0 conda-forge\n    branca:  0.3.1-py_0 conda-forge\n    folium:  0.5.0-py_0 conda-forge\n    vincent: 0.4.4-py_1 conda-forge\n\n\nDownloading and Extracting Packages\nbranca-0.3.1         | 25 KB     | ##################################### | 100% \naltair-4.0.0         | 606 KB    | ##################################### | 100% \nfolium-0.5.0         | 45 KB     | ##################################### | 100% \nvincent-0.4.4        | 28 KB     | ##################################### | 100% \nPreparing transaction: done\nVerifying transaction: done\nExecuting transaction: done\nFolium has been successfully installed!\n\nInstalling HTML5LIB...\n\nSolving environment: done\n\n## Package Plan ##\n\n  environment location: /opt/conda/envs/Python36\n\n  added / updated specs: \n    - html5lib\n\n\nThe following packages will be downloaded:\n\n    package                    |            build\n    ---------------------------|-----------------\n    html5lib-1.0.1             |             py_0          89 KB  conda-forge\n\nThe following packages will be UPDATED:\n\n    html5lib: 1.0.1-py_0 --> 1.0.1-py_0 conda-forge\n\n\nDownloading and Extracting Packages\nhtml5lib-1.0.1       | 89 KB     | ##################################### | 100% \nPreparing transaction: done\nVerifying transaction: done\nExecuting transaction: done\nHTML5LIB has been successfully installed!\n\n"
                }
            ],
            "source": "try:\n    print(\"Installing BeautifulSoup4...\\n\")\n    !conda install -c conda-forge beautifulsoup4 --yes\n    print(\"BeautifulSoup4 has been successfully installed!\\n\")\nexcept:\n    print(\"ERROR: could not install BeautifulSoup4!\\n\")\ntry:\n    print(\"Installing lxml...\\n\")\n    !conda install -c conda-forge lxml --yes\n    print(\"lxml has been successfully installed!\\n\")\nexcept:\n    print(\"ERROR: could not install lxml!\\n\")\ntry:\n    print(\"Installing ProgressBar...\\n\")\n    !conda install -c conda-forge ProgressBar2 --yes\n    print(\"ProgressBar has been successfully installed!\\n\")\nexcept:\n    print(\"ERROR: could not install ProgressBar!\\n\")\ntry:\n    print(\"Installing GeoPy...\\n\")\n    !conda install -c conda-forge geopy --yes\n    print(\"GeoPy has been successfully installed!\\n\")\nexcept:\n    print(\"ERROR: could not install GeoPy!\\n\")\ntry:\n    print(\"Installing Folium...\\n\")\n    !conda install -c conda-forge folium=0.5.0 --yes\n    print(\"Folium has been successfully installed!\\n\")\nexcept:\n    print(\"ERROR: could not install Folium!\\n\")\ntry:\n    print(\"Installing HTML5LIB...\\n\")\n    !conda install -c conda-forge html5lib --yes\n    print(\"HTML5LIB has been successfully installed!\\n\")\nexcept:\n    print(\"ERROR: could not install HTML5LIB!\\n\")"
        },
        {
            "cell_type": "markdown",
            "metadata": {},
            "source": "Importing libraries:"
        },
        {
            "cell_type": "code",
            "execution_count": 3,
            "metadata": {},
            "outputs": [
                {
                    "name": "stdout",
                    "output_type": "stream",
                    "text": "Importing libraries...\n\nAll libraries imported successfully!\n\n"
                }
            ],
            "source": "try:\n    print(\"Importing libraries...\\n\")\n    from progressbar import ProgressBar\n    from bs4 import BeautifulSoup as bts # library for web scraping\n    import numpy as np # library to handle data in a vectorized manner\n    import pandas as pd # library for data analysis\n    from pandas.io.json import json_normalize\n    import matplotlib.cm as cm\n    import matplotlib.colors as colors\n    import requests # library to handle requests\n    from geopy.geocoders import Nominatim # convert an address into latitude and longitude values\n    import matplotlib as mp # library for visualization\n    from sklearn.cluster import KMeans # import k-means from clustering stage\n    from geopy.geocoders import Nominatim # convert an address into latitude and longitude values\n    import folium # map rendering library\n    import lxml\n    import lxml.html as lh\n    import re\n    from time import sleep\n    print(\"All libraries imported successfully!\\n\")\nexcept:\n    print(\"ERROR: Could not import all libraries!\\n\")\n\n%matplotlib inline"
        },
        {
            "cell_type": "markdown",
            "metadata": {},
            "source": "Obtaining the data from the wiki site:"
        },
        {
            "cell_type": "code",
            "execution_count": 44,
            "metadata": {},
            "outputs": [
                {
                    "name": "stdout",
                    "output_type": "stream",
                    "text": "Requesting source...\nSource successfully requested!\nCreating beautifulsoup object from source data...\nSuccessfully created beautifulsoup object from source data!\nFinding all tables in source code...\nTables were successfully found in source code!\nNumber of tables in site: 1\nGetting the table text list\nTable text list obtained successfully.\nGetting the table column headers\nTable column headers:  ['Postcode', 'Borough', 'Neighbourhood']\nNumber of data in table:  1435\nPreparing the required dataframe and table.\nTable shape as per site data:  (287, 5)\n  NotRequired1 Postcode           Borough     Neighbourhood NotRequired2\n0                   M1A      Not assigned      Not assigned             \n1                   M2A      Not assigned      Not assigned             \n2                   M3A        North York         Parkwoods             \n3                   M4A        North York  Victoria Village             \n4                   M5A  Downtown Toronto      Harbourfront             \nTable shape after removing not required blank columns:  (287, 3)\n  Postcode           Borough     Neighbourhood\n0      M1A      Not assigned      Not assigned\n1      M2A      Not assigned      Not assigned\n2      M3A        North York         Parkwoods\n3      M4A        North York  Victoria Village\n4      M5A  Downtown Toronto      Harbourfront\n"
                }
            ],
            "source": "try:\n    print(\"Requesting source...\")\n    source  = requests.get('https://en.wikipedia.org/wiki/List_of_postal_codes_of_Canada:_M').text\n    print(\"Source successfully requested!\")\nexcept:\n    print(\"ERROR: could not request the source.\\n\")\ntry:\n    print(\"Creating beautifulsoup object from source data...\")\n    soup = bts(source,'lxml')\n    print(\"Successfully created beautifulsoup object from source data!\")\nexcept:\n    print(\"ERROR: could not create beautifulsoup object from source data!\")\ntry:\n    print(\"Finding all tables in source code...\")\n    table = soup.findAll('table',class_='wikitable sortable')\n    print(\"Tables were successfully found in source code!\")\n    print(\"Number of tables in site:\",len(table))\nexcept:\n    print(\"ERROR: could not find any table in source code!\")\ntable = table[0]\nprint(\"Getting the table text list\")\ntable_text = table.tbody.text\ntable_text = re.sub(\"\\[.*?\\]\", \"\",table_text)\ntable_list = table_text.split('\\n')\ndel table_list[-1]\nprint(\"Table text list obtained successfully.\")\nprint(\"Getting the table column headers\")\ntable_columns = table_list[0:5]\ntable_columns[0] = 'NotRequired1'\ntable_columns[4] = 'NotRequired2'\nprint(\"Table column headers: \", table_columns[1:4])\nprint(\"Number of data in table: \",len(table_list[5:]))\nif (len(table_list[5:]) % 5 == 0):\n    table_data = np.array(table_list[5:]).reshape(len(table_list[5:]) // 5,5)\nelse:\n    print(\"Number of table elements is incorrect!\")\nprint(\"Preparing the required dataframe and table.\")\ndataframe =  pd.DataFrame(np.nan_to_num(table_data),columns = table_columns)\nprint(\"Table shape as per site data: \", dataframe.shape)\nprint(dataframe.head(5))\ndataframe1 = dataframe.drop(['NotRequired1','NotRequired2'],axis=1)\ndataframe1 = dataframe1.reset_index(drop=True)\nprint(\"Table shape after removing not required blank columns: \",dataframe1.shape)\nprint(dataframe1.head(5))"
        },
        {
            "cell_type": "markdown",
            "metadata": {},
            "source": "Removing the Boroughs with 'Not assigned' values:"
        },
        {
            "cell_type": "code",
            "execution_count": 35,
            "metadata": {},
            "outputs": [
                {
                    "name": "stdout",
                    "output_type": "stream",
                    "text": "Table shape after removing Boroughs with Not assigned values:  (210, 3)\n   Postcode           Borough     Neighbourhood\n0       M3A        North York         Parkwoods\n1       M4A        North York  Victoria Village\n2       M5A  Downtown Toronto      Harbourfront\n3       M6A        North York  Lawrence Heights\n4       M6A        North York    Lawrence Manor\n5       M7A      Queen's Park      Not assigned\n6       M9A  Downtown Toronto      Queen's Park\n7       M1B       Scarborough             Rouge\n8       M1B       Scarborough           Malvern\n9       M3B        North York   Don Mills North\n10      M4B         East York  Woodbine Gardens\n11      M4B         East York     Parkview Hill\n12      M5B  Downtown Toronto           Ryerson\n13      M5B  Downtown Toronto   Garden District\n14      M6B        North York         Glencairn\n"
                }
            ],
            "source": "dataframe2 = dataframe1[dataframe1.Borough!=\"Not assigned\"]\ndataframe2 = dataframe2.reset_index(drop=True)\nprint(\"Table shape after removing Boroughs with Not assigned values: \",dataframe2.shape)\nprint(dataframe2.head(20))\n"
        },
        {
            "cell_type": "markdown",
            "metadata": {},
            "source": "Updating Neighbourhoods with values as 'Not assigned' to the corresponding Borough value:"
        },
        {
            "cell_type": "code",
            "execution_count": 48,
            "metadata": {},
            "outputs": [
                {
                    "name": "stdout",
                    "output_type": "stream",
                    "text": "Shape of table after updating the neighbourhood values:  (210, 3)\n   Postcode           Borough     Neighbourhood\n0       M3A        North York         Parkwoods\n1       M4A        North York  Victoria Village\n2       M5A  Downtown Toronto      Harbourfront\n3       M6A        North York  Lawrence Heights\n4       M6A        North York    Lawrence Manor\n5       M7A      Queen's Park      Queen's Park\n6       M9A  Downtown Toronto      Queen's Park\n7       M1B       Scarborough             Rouge\n8       M1B       Scarborough           Malvern\n9       M3B        North York   Don Mills North\n10      M4B         East York  Woodbine Gardens\n11      M4B         East York     Parkview Hill\n12      M5B  Downtown Toronto           Ryerson\n13      M5B  Downtown Toronto   Garden District\n14      M6B        North York         Glencairn\n15      M9B         Etobicoke        Cloverdale\n16      M9B         Etobicoke         Islington\n17      M9B         Etobicoke      Martin Grove\n18      M9B         Etobicoke  Princess Gardens\n19      M9B         Etobicoke   West Deane Park\n"
                }
            ],
            "source": "#print(dataframe2.loc[dataframe2['Neighbourhood'] == 'Not assigned','Neighbourhood'])\n#print(dataframe2.loc[dataframe2['Neighbourhood'] == 'Not assigned','Borough'])\ndataframe2.loc[dataframe2['Neighbourhood'] == 'Not assigned','Neighbourhood'] = dataframe2['Borough']\ndataframe2.reset_index()\nprint(\"Shape of table after updating the neighbourhood values: \",dataframe2.shape)\nprint(dataframe2.head(20))"
        },
        {
            "cell_type": "code",
            "execution_count": 49,
            "metadata": {},
            "outputs": [
                {
                    "name": "stdout",
                    "output_type": "stream",
                    "text": "Table shape after grouping and joining neighborhoods in same postal code:  (103, 3)\n   Postcode      Borough                                      Neighbourhood\n0       M1B  Scarborough                                     Malvern, Rouge\n1       M1C  Scarborough             Highland Creek, Port Union, Rouge Hill\n2       M1E  Scarborough                  Guildwood, Morningside, West Hill\n3       M1G  Scarborough                                             Woburn\n4       M1H  Scarborough                                          Cedarbrae\n5       M1J  Scarborough                                Scarborough Village\n6       M1K  Scarborough        East Birchmount Park, Ionview, Kennedy Park\n7       M1L  Scarborough                    Clairlea, Golden Mile, Oakridge\n8       M1M  Scarborough    Cliffcrest, Cliffside, Scarborough Village West\n9       M1N  Scarborough                        Birch Cliff, Cliffside West\n10      M1P  Scarborough  Dorset Park, Scarborough Town Centre, Wexford ...\n11      M1R  Scarborough                                  Maryvale, Wexford\n12      M1S  Scarborough                                          Agincourt\n13      M1T  Scarborough            Clarks Corners, Sullivan, Tam O'Shanter\n14      M1V  Scarborough  Agincourt North, L'Amoreaux East, Milliken, St...\n15      M1W  Scarborough                                    L'Amoreaux West\n16      M1X  Scarborough                                        Upper Rouge\n17      M2H   North York                                  Hillcrest Village\n18      M2J   North York                       Fairview, Henry Farm, Oriole\n19      M2K   North York                                    Bayview Village\n20      M2L   North York                           Silver Hills, York Mills\n21      M2M   North York                            Newtonbrook, Willowdale\n22      M2N   North York                                   Willowdale South\n23      M2P   North York                                    York Mills West\n24      M2R   North York                                    Willowdale West\n25      M3A   North York                                          Parkwoods\n26      M3B   North York                                    Don Mills North\n27      M3C   North York                   Don Mills South, Flemingdon Park\n28      M3H   North York    Bathurst Manor, Downsview North, Wilson Heights\n29      M3J   North York                    Northwood Park, York University\nTable prepared successfully!\n"
                }
            ],
            "source": "dataframe3 = dataframe2.groupby(['Postcode', 'Borough']).agg(lambda x: \", \".join(sorted(set(x))))\ndataframe3 = dataframe3.reset_index()\nprint(\"Table shape after grouping and joining neighborhoods in same postal code: \", dataframe3.shape)\nprint(dataframe3.head(30))\nprint(\"Table prepared successfully!\")    \n"
        },
        {
            "cell_type": "code",
            "execution_count": 51,
            "metadata": {},
            "outputs": [
                {
                    "name": "stdout",
                    "output_type": "stream",
                    "text": "Final number of rows in dataframe:  (103, 3)\n"
                }
            ],
            "source": "print(\"Final number of rows in dataframe: \", dataframe3.shape)"
        },
        {
            "cell_type": "code",
            "execution_count": null,
            "metadata": {},
            "outputs": [],
            "source": ""
        }
    ],
    "metadata": {
        "kernelspec": {
            "display_name": "Python 3.6",
            "language": "python",
            "name": "python3"
        },
        "language_info": {
            "codemirror_mode": {
                "name": "ipython",
                "version": 3
            },
            "file_extension": ".py",
            "mimetype": "text/x-python",
            "name": "python",
            "nbconvert_exporter": "python",
            "pygments_lexer": "ipython3",
            "version": "3.6.8"
        }
    },
    "nbformat": 4,
    "nbformat_minor": 1
}