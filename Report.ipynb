{
    "cells": [
        {
            "cell_type": "markdown",
            "metadata": {
                "collapsed": true
            },
            "source": "#   CHICAGO SCHOOL SAFETY ANALYSIS, CLUSTERING AND PREDICTION\n\n\n\n                                              Jan 2020\n\n\n\n\n\nAuthor: Sujita Chatterjee\n\n\n\n\n\n\n\n"
        },
        {
            "cell_type": "markdown",
            "metadata": {},
            "source": "# 1.0 Introduction:"
        },
        {
            "cell_type": "markdown",
            "metadata": {},
            "source": "\nSafety in schools is a very important requirement and the neighborhood of the school has a big influence on the school safety. This project will use Chicago school and crime data from the Course 5 of this certification. School data will be used with Four Square API to find the available security ( number of Police stations). Depending on the crime counts in the neighborhood of existing schools, it can be decided if more police stations are required. For new schools, the crime data analysis and developing a model using machine learning can help with predicting the crime in the neighborhood in future. The project can be used by any location with the location, school and crime rates data available. This will help the school administration and government bodies to make accurate decisions on which locations are appropriate for new schools as well as which existing schools need more security arrangements.\n"
        },
        {
            "cell_type": "markdown",
            "metadata": {},
            "source": "# 2.0 Data:"
        },
        {
            "cell_type": "markdown",
            "metadata": {},
            "source": "\nThis project will use the Chicago school and crime data from the Course 5 of the IBM Data Science Professional certification. \nOnly certain columns of interest are retrieved from the datasets. The records with missing data in the datasets are dropped. \nCrime data prior to 2013 is used to develop a linear regression model to be used for predicting crime counts for future years. \nChicago location data is obtained from the school data. \nThe location co-ordinates for Chicago is obtained using the geopy.geocoders library Nominatim. \nMaps for the Chicago school data is displayed. FourSquare API will be used to find the police stations near schools to determine the available \nsecurity and if additional security is required based on the current crime counts. \nKmeans clustering is used to cluster the schools into clusters for further analysis.\n\n"
        },
        {
            "cell_type": "markdown",
            "metadata": {},
            "source": "# 3.0 Methodology:"
        },
        {
            "cell_type": "markdown",
            "metadata": {},
            "source": "\nFirst the python and machine learning packages and libraries to be used for the project are imported and installed.\nBelow is a list of the packages and libraries:\nLxml # Processing XML and HTML\nGeopy # to locate the coordinates of addresses, cities, countries, and landmarks across the globe using third-party geocoders\nProgressBar # to provide visual (yet text based) progress to long running operations\nBeautifulSoup # library for web scraping\nnumpy # library to handle data in a vectorized manner\npandas # library for data analysis\njson_normalize # for flattening semi-structured JSON objects\nmatplotlib.cm # Colormap reference for a list of built in colormaps\nmatplotlib.colors # list of the named colors supported in matplotlib\nrequests # library to handle requests\ngeopy.geocoders Nominatim # convert an address into latitude and longitude values\nmatplotlib # library for visualization\nsklearn.cluster  KMeans # import k-means from clustering stage\nfolium # map rendering library\nre # specifies a set of strings that matches it\n\nNext, the Chicago crime data set is retrieved and cleaned. \nSource of crime data:\nhttps://ibm.box.com/shared/static/svflyugsr9zbqy5bmowgswqemfpm1x7f.csv\nThe data is read into a python dataframe from the csv file. Only columns of interest are saved and other columns are dropped. The records with missing data are also dropped. Data prior to the year 2013 is saved and is used to develop a Linear Regression model to predict the crime count for a year for a certain location.\n\nNext, the Chicago school data set is retrieved and cleaned.\nSource of school data:\nhttps://ibm.box.com/shared/static/f9gjvj1gjmxxzycdhplzt01qtz0s7ew7.csv\nThe data is read into a python dataframe from the csv file. Only columns of interest are saved and other columns are dropped. The records with missing data are also dropped.\nThe location co-ordinates for Chicago is obtained using the Nominatim geocode and used to develop a Folium map to visualize the Chicago schools.\nFoursquare API is used to find the police stations within 2000 meters of schools. A map is developed using Folium to visualize a sample school along with the police stations in its neighborhood.\n\nThe crime counts for each area is calculated and then joined with the school data. The combined school and crime data is used for clustering the schools using KMeans based on the crime count. The clusters are displayed in a map using Folium. The clusters are also analyzed to obtain the average, maximum and minimum crime counts in each cluster.\n\n\n\u2003\n"
        },
        {
            "cell_type": "markdown",
            "metadata": {},
            "source": "# 4.0 Results:"
        },
        {
            "cell_type": "markdown",
            "metadata": {},
            "source": "\nThe model developed using Linear Regression predicts the crime count for an area for a future year very accurately as seen by the R2 score. \nThe results of the FourSquare API query provide the police stations within a certain radius of a school.\nThe cluster maps and data analysis show that some clusters are spread across many areas while some are in one or two areas. \n\n"
        },
        {
            "cell_type": "markdown",
            "metadata": {},
            "source": "# 5.0 Discussion:"
        },
        {
            "cell_type": "markdown",
            "metadata": {},
            "source": "\nMachine learning models using Linear Regression are very effective tools for prediction and should be used to develop the model for predicting the crime count in an area for a future time. \nFourSquare API also provides accurate information about existing venues. This is very helpful with locating the existing security as well as any other facilities of interest.\nBoth the crime count and available security in an area is very helpful for officials to determine if additional security is required for existing schools or if the areas are safe for new schools.\nVisualizing the school and crime data in clusters in a map also helps to understand the areas with similar crime counts and which areas need further attention.\n"
        },
        {
            "cell_type": "markdown",
            "metadata": {},
            "source": "# 6.0 Conclusion:"
        },
        {
            "cell_type": "markdown",
            "metadata": {},
            "source": "\n\nThe sample of Chicago schools used for clustering into four clusters based on crime counts produced one cluster across many areas, one with few areas, one with two areas and another in only one area. The Folium map helps in visualizing the clusters. \nThe model using Linear Regression for crime counts predicts the crime count for an area for a future time accurately.\nFourSquare API helps provide the different venues for any location and can be used effectively to find the available security (police stations) in a schools vicinity.\nAs seen in the clusters map, more schools are in areas with less crime count. And the areas with high crime count have fewer schools. Further effort should be taken to add additional security in the areas with high crime count if their existing security is determined to be not adequate.\n"
        },
        {
            "cell_type": "code",
            "execution_count": null,
            "metadata": {},
            "outputs": [],
            "source": ""
        }
    ],
    "metadata": {
        "kernelspec": {
            "display_name": "Python 3.6",
            "language": "python",
            "name": "python3"
        },
        "language_info": {
            "codemirror_mode": {
                "name": "ipython",
                "version": 3
            },
            "file_extension": ".py",
            "mimetype": "text/x-python",
            "name": "python",
            "nbconvert_exporter": "python",
            "pygments_lexer": "ipython3",
            "version": "3.6.8"
        }
    },
    "nbformat": 4,
    "nbformat_minor": 1
}